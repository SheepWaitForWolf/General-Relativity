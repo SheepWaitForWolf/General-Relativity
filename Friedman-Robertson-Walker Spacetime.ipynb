{
 "cells": [
  {
   "cell_type": "code",
   "execution_count": 17,
   "metadata": {},
   "outputs": [],
   "source": [
    "import sympy\n",
    "from einsteinpy.symbolic import MetricTensor, ChristoffelSymbols, RiemannCurvatureTensor\n",
    "import astropy.units as u\n",
    "\n",
    "from einsteinpy import constant\n",
    "from einsteinpy.utils import scalar_factor as sf\n",
    "from einsteinpy.utils import scalar_factor_derivative as sfd\n",
    "from einsteinpy.utils import time_velocity\n",
    "\n",
    "sympy.init_printing()"
   ]
  },
  {
   "cell_type": "code",
   "execution_count": 22,
   "metadata": {},
   "outputs": [],
   "source": [
    "syms = sympy.symbols('t r theta phi')\n",
    "# define the metric\n",
    "k = 1.0\n",
    "a = sf\n",
    "t, r = syms[0], syms[1]\n",
    "\n",
    "den = 1 - k*(syms[1]**2)\n",
    "metric = [[0 for i in range(4)] for i in range(4)]\n",
    "metric[0][0] = -1\n",
    "metric[1][1] = sf\n",
    "metric[2][2] = a\n",
    "# metric[3][3] = a**2 * r**2 * sin([syms[2]]**2)\n",
    "\n",
    "# m_obj = MetricTensor(metric, syms)\n",
    "# m_obj.tensor()"
   ]
  },
  {
   "cell_type": "code",
   "execution_count": null,
   "metadata": {},
   "outputs": [],
   "source": []
  },
  {
   "cell_type": "code",
   "execution_count": null,
   "metadata": {},
   "outputs": [],
   "source": []
  }
 ],
 "metadata": {
  "kernelspec": {
   "display_name": "Python 3",
   "language": "python",
   "name": "python3"
  },
  "language_info": {
   "codemirror_mode": {
    "name": "ipython",
    "version": 3
   },
   "file_extension": ".py",
   "mimetype": "text/x-python",
   "name": "python",
   "nbconvert_exporter": "python",
   "pygments_lexer": "ipython3",
   "version": "3.8.5"
  }
 },
 "nbformat": 4,
 "nbformat_minor": 2
}
