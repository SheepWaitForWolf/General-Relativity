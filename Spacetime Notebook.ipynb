{
 "cells": [
  {
   "cell_type": "code",
   "execution_count": 1,
   "metadata": {},
   "outputs": [
    {
     "ename": "SyntaxError",
     "evalue": "invalid syntax (<ipython-input-1-fafa48ce53e2>, line 1)",
     "output_type": "error",
     "traceback": [
      "\u001b[1;36m  File \u001b[1;32m\"<ipython-input-1-fafa48ce53e2>\"\u001b[1;36m, line \u001b[1;32m1\u001b[0m\n\u001b[1;33m    Import scipy\u001b[0m\n\u001b[1;37m               ^\u001b[0m\n\u001b[1;31mSyntaxError\u001b[0m\u001b[1;31m:\u001b[0m invalid syntax\n"
     ]
    }
   ],
   "source": [
    "Import scipy"
   ]
  },
  {
   "cell_type": "code",
   "execution_count": 10,
   "metadata": {
    "collapsed": true
   },
   "outputs": [],
   "source": [
    "import scipy\n",
    "import sympy"
   ]
  },
  {
   "cell_type": "code",
   "execution_count": 11,
   "metadata": {
    "collapsed": true
   },
   "outputs": [],
   "source": [
    "import einsteinpy"
   ]
  },
  {
   "cell_type": "code",
   "execution_count": 16,
   "metadata": {},
   "outputs": [],
   "source": [
    "from sympy import cos, sin, sinh\n",
    "from einsteinpy.symbolic import MetricTensor, RicciTensor, RicciScalar, ChristoffelSymbols, RiemannCurvatureTensor, WeylTensor\n",
    "from einsteinpy.symbolic.predefined import AntiDeSitter\n",
    "sympy.init_printing()"
   ]
  },
  {
   "cell_type": "code",
   "execution_count": 17,
   "metadata": {},
   "outputs": [
    {
     "data": {
      "text/latex": [
       "$\\displaystyle \\left[\\begin{matrix}-1 & 0 & 0 & 0\\\\0 & \\cos^{2}{\\left(t \\right)} & 0 & 0\\\\0 & 0 & \\cos^{2}{\\left(t \\right)} \\sinh^{2}{\\left(\\chi \\right)} & 0\\\\0 & 0 & 0 & \\sin^{2}{\\left(\\theta \\right)} \\cos^{2}{\\left(t \\right)} \\sinh^{2}{\\left(\\chi \\right)}\\end{matrix}\\right]$"
      ],
      "text/plain": [
       "⎡-1     0            0                     0            ⎤\n",
       "⎢                                                       ⎥\n",
       "⎢       2                                               ⎥\n",
       "⎢0   cos (t)         0                     0            ⎥\n",
       "⎢                                                       ⎥\n",
       "⎢                2        2                             ⎥\n",
       "⎢0      0     cos (t)⋅sinh (χ)             0            ⎥\n",
       "⎢                                                       ⎥\n",
       "⎢                                  2       2        2   ⎥\n",
       "⎣0      0            0          sin (θ)⋅cos (t)⋅sinh (χ)⎦"
      ]
     },
     "execution_count": 17,
     "metadata": {},
     "output_type": "execute_result"
    }
   ],
   "source": [
    "metric = AntiDeSitter()\n",
    "metric.tensor()"
   ]
  },
  {
   "cell_type": "code",
   "execution_count": 18,
   "metadata": {},
   "outputs": [
    {
     "data": {
      "text/latex": [
       "$\\displaystyle \\left[\\begin{matrix}3 & 0 & 0 & 0\\\\0 & - 3 \\cos^{2}{\\left(t \\right)} & 0 & 0\\\\0 & 0 & \\left(\\sin^{2}{\\left(t \\right)} - 1\\right) \\sinh^{2}{\\left(\\chi \\right)} - 2 \\cos^{2}{\\left(t \\right)} \\sinh^{2}{\\left(\\chi \\right)} & 0\\\\0 & 0 & 0 & \\left(\\sin^{2}{\\left(t \\right)} - 1\\right) \\sin^{2}{\\left(\\theta \\right)} \\sinh^{2}{\\left(\\chi \\right)} - 2 \\sin^{2}{\\left(\\theta \\right)} \\cos^{2}{\\left(t \\right)} \\sinh^{2}{\\left(\\chi \\right)}\\end{matrix}\\right]$"
      ],
      "text/plain": [
       "⎡3      0                            0                                        \n",
       "⎢                                                                             \n",
       "⎢         2                                                                   \n",
       "⎢0  -3⋅cos (t)                       0                                        \n",
       "⎢                                                                             \n",
       "⎢               ⎛   2       ⎞     2           2        2                      \n",
       "⎢0      0       ⎝sin (t) - 1⎠⋅sinh (χ) - 2⋅cos (t)⋅sinh (χ)                   \n",
       "⎢                                                                             \n",
       "⎢                                                            ⎛   2       ⎞    \n",
       "⎣0      0                            0                       ⎝sin (t) - 1⎠⋅sin\n",
       "\n",
       "            0                             ⎤\n",
       "                                          ⎥\n",
       "                                          ⎥\n",
       "            0                             ⎥\n",
       "                                          ⎥\n",
       "                                          ⎥\n",
       "            0                             ⎥\n",
       "                                          ⎥\n",
       "2        2           2       2        2   ⎥\n",
       " (θ)⋅sinh (χ) - 2⋅sin (θ)⋅cos (t)⋅sinh (χ)⎦"
      ]
     },
     "execution_count": 18,
     "metadata": {},
     "output_type": "execute_result"
    }
   ],
   "source": [
    "Ric = RicciTensor.from_metric(metric)\n",
    "Ric.tensor()"
   ]
  },
  {
   "cell_type": "code",
   "execution_count": 19,
   "metadata": {},
   "outputs": [
    {
     "data": {
      "image/png": "[encoded data removed]",
      "text/latex": [
       "$\\displaystyle -12$"
      ],
      "text/plain": [
       "-12"
      ]
     },
     "execution_count": 19,
     "metadata": {},
     "output_type": "execute_result"
    }
   ],
   "source": [
    "R = RicciScalar.from_riccitensor(Ric)\n",
    "R.simplify()\n",
    "R.expr"
   ]
  },
  {
   "cell_type": "code",
   "execution_count": 15,
   "metadata": {},
   "outputs": [
    {
     "data": {
      "text/latex": [
       "$\\displaystyle \\left[\\begin{matrix}\\left[\\begin{matrix}0 & 0 & 0 & 0\\\\0 & - \\sin{\\left(t \\right)} \\cos{\\left(t \\right)} & 0 & 0\\\\0 & 0 & - \\sin{\\left(t \\right)} \\cos{\\left(t \\right)} \\sinh^{2}{\\left(\\chi \\right)} & 0\\\\0 & 0 & 0 & - \\sin{\\left(t \\right)} \\sin^{2}{\\left(\\theta \\right)} \\cos{\\left(t \\right)} \\sinh^{2}{\\left(\\chi \\right)}\\end{matrix}\\right] & \\left[\\begin{matrix}0 & - \\frac{\\sin{\\left(t \\right)}}{\\cos{\\left(t \\right)}} & 0 & 0\\\\- \\frac{\\sin{\\left(t \\right)}}{\\cos{\\left(t \\right)}} & 0 & 0 & 0\\\\0 & 0 & - \\sinh{\\left(\\chi \\right)} \\cosh{\\left(\\chi \\right)} & 0\\\\0 & 0 & 0 & - \\sin^{2}{\\left(\\theta \\right)} \\sinh{\\left(\\chi \\right)} \\cosh{\\left(\\chi \\right)}\\end{matrix}\\right] & \\left[\\begin{matrix}0 & 0 & - \\frac{\\sin{\\left(t \\right)}}{\\cos{\\left(t \\right)}} & 0\\\\0 & 0 & \\frac{\\cosh{\\left(\\chi \\right)}}{\\sinh{\\left(\\chi \\right)}} & 0\\\\- \\frac{\\sin{\\left(t \\right)}}{\\cos{\\left(t \\right)}} & \\frac{\\cosh{\\left(\\chi \\right)}}{\\sinh{\\left(\\chi \\right)}} & 0 & 0\\\\0 & 0 & 0 & - \\sin{\\left(\\theta \\right)} \\cos{\\left(\\theta \\right)}\\end{matrix}\\right] & \\left[\\begin{matrix}0 & 0 & 0 & - \\frac{\\sin{\\left(t \\right)}}{\\cos{\\left(t \\right)}}\\\\0 & 0 & 0 & \\frac{\\cosh{\\left(\\chi \\right)}}{\\sinh{\\left(\\chi \\right)}}\\\\0 & 0 & 0 & \\frac{\\cos{\\left(\\theta \\right)}}{\\sin{\\left(\\theta \\right)}}\\\\- \\frac{\\sin{\\left(t \\right)}}{\\cos{\\left(t \\right)}} & \\frac{\\cosh{\\left(\\chi \\right)}}{\\sinh{\\left(\\chi \\right)}} & \\frac{\\cos{\\left(\\theta \\right)}}{\\sin{\\left(\\theta \\right)}} & 0\\end{matrix}\\right]\\end{matrix}\\right]$"
      ],
      "text/plain": [
       "⎡                                                                             \n",
       "⎢                                                                             \n",
       "⎢                                                                             \n",
       "⎢⎡0        0                    0                            0               ⎤\n",
       "⎢⎢                                                                           ⎥\n",
       "⎢⎢0  -sin(t)⋅cos(t)             0                            0               ⎥\n",
       "⎢⎢                                                                           ⎥\n",
       "⎢⎢                                      2                                    ⎥\n",
       "⎢⎢0        0         -sin(t)⋅cos(t)⋅sinh (χ)                 0               ⎥\n",
       "⎢⎢                                                                           ⎥\n",
       "⎢⎢                                                       2               2   ⎥\n",
       "⎢⎣0        0                    0             -sin(t)⋅sin (θ)⋅cos(t)⋅sinh (χ)⎦\n",
       "⎢                                                                             \n",
       "⎢                                                                             \n",
       "⎣                                                                             \n",
       "\n",
       "                                                                              \n",
       "  ⎡          -sin(t)                                             ⎤  ⎡         \n",
       "  ⎢   0      ────────         0                     0            ⎥  ⎢   0     \n",
       "  ⎢           cos(t)                                             ⎥  ⎢         \n",
       "  ⎢                                                              ⎥  ⎢         \n",
       "  ⎢-sin(t)                                                       ⎥  ⎢         \n",
       "  ⎢────────     0             0                     0            ⎥  ⎢   0     \n",
       "  ⎢ cos(t)                                                       ⎥  ⎢         \n",
       "  ⎢                                                              ⎥  ⎢         \n",
       "  ⎢   0         0      -sinh(χ)⋅cosh(χ)             0            ⎥  ⎢-sin(t)  \n",
       "  ⎢                                                              ⎥  ⎢──────── \n",
       "  ⎢                                          2                   ⎥  ⎢ cos(t)  \n",
       "  ⎣   0         0             0          -sin (θ)⋅sinh(χ)⋅cosh(χ)⎦  ⎢         \n",
       "                                                                    ⎣   0     \n",
       "                                                                              \n",
       "\n",
       "                                     ⎡                           -sin(t) ⎤⎤\n",
       "          -sin(t)                 ⎤  ⎢   0         0       0     ────────⎥⎥\n",
       "    0     ────────        0       ⎥  ⎢                            cos(t) ⎥⎥\n",
       "           cos(t)                 ⎥  ⎢                                   ⎥⎥\n",
       "                                  ⎥  ⎢                           cosh(χ) ⎥⎥\n",
       "          cosh(χ)                 ⎥  ⎢   0         0       0     ─────── ⎥⎥\n",
       "    0     ───────         0       ⎥  ⎢                           sinh(χ) ⎥⎥\n",
       "          sinh(χ)                 ⎥  ⎢                                   ⎥⎥\n",
       "                                  ⎥  ⎢                            cos(θ) ⎥⎥\n",
       " cosh(χ)                          ⎥  ⎢   0         0       0      ────── ⎥⎥\n",
       " ───────     0            0       ⎥  ⎢                            sin(θ) ⎥⎥\n",
       " sinh(χ)                          ⎥  ⎢                                   ⎥⎥\n",
       "                                  ⎥  ⎢-sin(t)   cosh(χ)  cos(θ)          ⎥⎥\n",
       "    0        0      -sin(θ)⋅cos(θ)⎦  ⎢────────  ───────  ──────     0    ⎥⎥\n",
       "                                     ⎣ cos(t)   sinh(χ)  sin(θ)          ⎦⎦"
      ]
     },
     "execution_count": 15,
     "metadata": {},
     "output_type": "execute_result"
    }
   ],
   "source": [
    "ch = ChristoffelSymbols.from_metric(metric)\n",
    "ch.tensor()"
   ]
  },
  {
   "cell_type": "code",
   "execution_count": 20,
   "metadata": {},
   "outputs": [
    {
     "data": {
      "text/latex": [
       "$\\displaystyle \\left[\\begin{matrix}\\left[\\begin{matrix}0 & 0 & 0 & 0\\\\0 & - \\cos^{2}{\\left(t \\right)} & 0 & 0\\\\0 & 0 & - \\cos^{2}{\\left(t \\right)} \\sinh^{2}{\\left(\\chi \\right)} & 0\\\\0 & 0 & 0 & - \\sin^{2}{\\left(\\theta \\right)} \\cos^{2}{\\left(t \\right)} \\sinh^{2}{\\left(\\chi \\right)}\\end{matrix}\\right] & \\left[\\begin{matrix}0 & 0 & 0 & 0\\\\\\cos^{2}{\\left(t \\right)} & 0 & 0 & 0\\\\0 & 0 & 0 & 0\\\\0 & 0 & 0 & 0\\end{matrix}\\right] & \\left[\\begin{matrix}0 & 0 & 0 & 0\\\\0 & 0 & 0 & 0\\\\\\cos^{2}{\\left(t \\right)} \\sinh^{2}{\\left(\\chi \\right)} & 0 & 0 & 0\\\\0 & 0 & 0 & 0\\end{matrix}\\right] & \\left[\\begin{matrix}0 & 0 & 0 & 0\\\\0 & 0 & 0 & 0\\\\0 & 0 & 0 & 0\\\\\\sin^{2}{\\left(\\theta \\right)} \\cos^{2}{\\left(t \\right)} \\sinh^{2}{\\left(\\chi \\right)} & 0 & 0 & 0\\end{matrix}\\right]\\\\\\left[\\begin{matrix}0 & \\cos^{2}{\\left(t \\right)} & 0 & 0\\\\0 & 0 & 0 & 0\\\\0 & 0 & 0 & 0\\\\0 & 0 & 0 & 0\\end{matrix}\\right] & \\left[\\begin{matrix}- \\cos^{2}{\\left(t \\right)} & 0 & 0 & 0\\\\0 & 0 & 0 & 0\\\\0 & 0 & \\cos^{4}{\\left(t \\right)} \\sinh^{2}{\\left(\\chi \\right)} & 0\\\\0 & 0 & 0 & \\sin^{2}{\\left(\\theta \\right)} \\cos^{4}{\\left(t \\right)} \\sinh^{2}{\\left(\\chi \\right)}\\end{matrix}\\right] & \\left[\\begin{matrix}0 & 0 & 0 & 0\\\\0 & 0 & 0 & 0\\\\0 & - \\cos^{4}{\\left(t \\right)} \\sinh^{2}{\\left(\\chi \\right)} & 0 & 0\\\\0 & 0 & 0 & 0\\end{matrix}\\right] & \\left[\\begin{matrix}0 & 0 & 0 & 0\\\\0 & 0 & 0 & 0\\\\0 & 0 & 0 & 0\\\\0 & - \\sin^{2}{\\left(\\theta \\right)} \\cos^{4}{\\left(t \\right)} \\sinh^{2}{\\left(\\chi \\right)} & 0 & 0\\end{matrix}\\right]\\\\\\left[\\begin{matrix}0 & 0 & \\cos^{2}{\\left(t \\right)} \\sinh^{2}{\\left(\\chi \\right)} & 0\\\\0 & 0 & 0 & 0\\\\0 & 0 & 0 & 0\\\\0 & 0 & 0 & 0\\end{matrix}\\right] & \\left[\\begin{matrix}0 & 0 & 0 & 0\\\\0 & 0 & - \\cos^{4}{\\left(t \\right)} \\sinh^{2}{\\left(\\chi \\right)} & 0\\\\0 & 0 & 0 & 0\\\\0 & 0 & 0 & 0\\end{matrix}\\right] & \\left[\\begin{matrix}- \\cos^{2}{\\left(t \\right)} \\sinh^{2}{\\left(\\chi \\right)} & 0 & 0 & 0\\\\0 & \\cos^{4}{\\left(t \\right)} \\sinh^{2}{\\left(\\chi \\right)} & 0 & 0\\\\0 & 0 & 0 & 0\\\\0 & 0 & 0 & \\sin^{2}{\\left(\\theta \\right)} \\cos^{4}{\\left(t \\right)} \\sinh^{4}{\\left(\\chi \\right)}\\end{matrix}\\right] & \\left[\\begin{matrix}0 & 0 & 0 & 0\\\\0 & 0 & 0 & 0\\\\0 & 0 & 0 & 0\\\\0 & 0 & - \\sin^{2}{\\left(\\theta \\right)} \\cos^{4}{\\left(t \\right)} \\sinh^{4}{\\left(\\chi \\right)} & 0\\end{matrix}\\right]\\\\\\left[\\begin{matrix}0 & 0 & 0 & \\sin^{2}{\\left(\\theta \\right)} \\cos^{2}{\\left(t \\right)} \\sinh^{2}{\\left(\\chi \\right)}\\\\0 & 0 & 0 & 0\\\\0 & 0 & 0 & 0\\\\0 & 0 & 0 & 0\\end{matrix}\\right] & \\left[\\begin{matrix}0 & 0 & 0 & 0\\\\0 & 0 & 0 & - \\sin^{2}{\\left(\\theta \\right)} \\cos^{4}{\\left(t \\right)} \\sinh^{2}{\\left(\\chi \\right)}\\\\0 & 0 & 0 & 0\\\\0 & 0 & 0 & 0\\end{matrix}\\right] & \\left[\\begin{matrix}0 & 0 & 0 & 0\\\\0 & 0 & 0 & 0\\\\0 & 0 & 0 & - \\sin^{2}{\\left(\\theta \\right)} \\cos^{4}{\\left(t \\right)} \\sinh^{4}{\\left(\\chi \\right)}\\\\0 & 0 & 0 & 0\\end{matrix}\\right] & \\left[\\begin{matrix}- \\sin^{2}{\\left(\\theta \\right)} \\cos^{2}{\\left(t \\right)} \\sinh^{2}{\\left(\\chi \\right)} & 0 & 0 & 0\\\\0 & \\sin^{2}{\\left(\\theta \\right)} \\cos^{4}{\\left(t \\right)} \\sinh^{2}{\\left(\\chi \\right)} & 0 & 0\\\\0 & 0 & \\sin^{2}{\\left(\\theta \\right)} \\cos^{4}{\\left(t \\right)} \\sinh^{4}{\\left(\\chi \\right)} & 0\\\\0 & 0 & 0 & 0\\end{matrix}\\right]\\end{matrix}\\right]$"
      ],
      "text/plain": [
       "⎡⎡0     0              0                      0            ⎤                  \n",
       "⎢⎢                                                         ⎥                  \n",
       "⎢⎢       2                                                 ⎥                  \n",
       "⎢⎢0  -cos (t)          0                      0            ⎥                  \n",
       "⎢⎢                                                         ⎥                  \n",
       "⎢⎢                 2        2                              ⎥                  \n",
       "⎢⎢0     0      -cos (t)⋅sinh (χ)              0            ⎥                  \n",
       "⎢⎢                                                         ⎥                  \n",
       "⎢⎢                                    2       2        2   ⎥                  \n",
       "⎢⎣0     0              0          -sin (θ)⋅cos (t)⋅sinh (χ)⎦                  \n",
       "⎢                                                                             \n",
       "⎢                                                             ⎡    2          \n",
       "⎢                    ⎡      2         ⎤                       ⎢-cos (t)  0    \n",
       "⎢                    ⎢0  cos (t)  0  0⎥                       ⎢               \n",
       "⎢                    ⎢                ⎥                       ⎢   0      0    \n",
       "⎢                    ⎢0     0     0  0⎥                       ⎢               \n",
       "⎢                    ⎢                ⎥                       ⎢               \n",
       "⎢                    ⎢0     0     0  0⎥                       ⎢   0      0  co\n",
       "⎢                    ⎢                ⎥                       ⎢               \n",
       "⎢                    ⎣0     0     0  0⎦                       ⎢               \n",
       "⎢                                                             ⎣   0      0    \n",
       "⎢                                                                             \n",
       "⎢                                                                             \n",
       "⎢                ⎡         2        2      ⎤                                ⎡0\n",
       "⎢                ⎢0  0  cos (t)⋅sinh (χ)  0⎥                                ⎢ \n",
       "⎢                ⎢                         ⎥                                ⎢ \n",
       "⎢                ⎢0  0         0          0⎥                                ⎢0\n",
       "⎢                ⎢                         ⎥                                ⎢ \n",
       "⎢                ⎢0  0         0          0⎥                                ⎢0\n",
       "⎢                ⎢                         ⎥                                ⎢ \n",
       "⎢                ⎣0  0         0          0⎦                                ⎣0\n",
       "⎢                                                                             \n",
       "⎢                                                                             \n",
       "⎢                                                                             \n",
       "⎢            ⎡            2       2        2   ⎤                        ⎡0  0 \n",
       "⎢            ⎢0  0  0  sin (θ)⋅cos (t)⋅sinh (χ)⎥                        ⎢     \n",
       "⎢            ⎢                                 ⎥                        ⎢     \n",
       "⎢            ⎢0  0  0             0            ⎥                        ⎢0  0 \n",
       "⎢            ⎢                                 ⎥                        ⎢     \n",
       "⎢            ⎢0  0  0             0            ⎥                        ⎢0  0 \n",
       "⎢            ⎢                                 ⎥                        ⎢     \n",
       "⎢            ⎣0  0  0             0            ⎦                        ⎣0  0 \n",
       "⎣                                                                             \n",
       "\n",
       "                                                                              \n",
       "   ⎡   0     0  0  0⎤                                         ⎡       0       \n",
       "   ⎢                ⎥                                         ⎢               \n",
       "   ⎢   2            ⎥                                         ⎢       0       \n",
       "   ⎢cos (t)  0  0  0⎥                                         ⎢               \n",
       "   ⎢                ⎥                                         ⎢   2        2  \n",
       "   ⎢   0     0  0  0⎥                                         ⎢cos (t)⋅sinh (χ\n",
       "   ⎢                ⎥                                         ⎢               \n",
       "   ⎣   0     0  0  0⎦                                         ⎣       0       \n",
       "                                                                              \n",
       "                                                                              \n",
       "                                        ⎤                                     \n",
       "     0                     0            ⎥                     ⎡0          0   \n",
       "                                        ⎥                     ⎢               \n",
       "     0                     0            ⎥                     ⎢0          0   \n",
       "                                        ⎥                     ⎢               \n",
       " 4        2                             ⎥                     ⎢       4       \n",
       "s (t)⋅sinh (χ)             0            ⎥                     ⎢0  -cos (t)⋅sin\n",
       "                                        ⎥                     ⎢               \n",
       "                   2       4        2   ⎥                     ⎣0          0   \n",
       "     0          sin (θ)⋅cos (t)⋅sinh (χ)⎦                                     \n",
       "                                                                              \n",
       "                                           ⎡    2        2                    \n",
       "  0          0          0⎤                 ⎢-cos (t)⋅sinh (χ)         0       \n",
       "                         ⎥                 ⎢                                  \n",
       "         4        2      ⎥                 ⎢                      4        2  \n",
       "  0  -cos (t)⋅sinh (χ)  0⎥                 ⎢        0          cos (t)⋅sinh (χ\n",
       "                         ⎥                 ⎢                                  \n",
       "  0          0          0⎥                 ⎢        0                 0       \n",
       "                         ⎥                 ⎢                                  \n",
       "  0          0          0⎦                 ⎢                                  \n",
       "                                           ⎣        0                 0       \n",
       "                                                                              \n",
       "                                                                              \n",
       " 0              0            ⎤                            ⎡0  0  0            \n",
       "                             ⎥                            ⎢                   \n",
       "        2       4        2   ⎥                            ⎢0  0  0            \n",
       " 0  -sin (θ)⋅cos (t)⋅sinh (χ)⎥                            ⎢                   \n",
       "                             ⎥                            ⎢             2     \n",
       " 0              0            ⎥                            ⎢0  0  0  -sin (θ)⋅c\n",
       "                             ⎥                            ⎢                   \n",
       " 0              0            ⎦                            ⎣0  0  0            \n",
       "                                                                              \n",
       "\n",
       "                                                                              \n",
       "   0  0  0⎤                                             ⎡           0         \n",
       "          ⎥                                             ⎢                     \n",
       "   0  0  0⎥                                             ⎢           0         \n",
       "          ⎥                                             ⎢                     \n",
       "          ⎥                                             ⎢           0         \n",
       ")  0  0  0⎥                                             ⎢                     \n",
       "          ⎥                                             ⎢   2       2        2\n",
       "   0  0  0⎦                                             ⎣sin (θ)⋅cos (t)⋅sinh \n",
       "                                                                              \n",
       "                                                                              \n",
       "                                                                              \n",
       "       0  0⎤                                            ⎡0              0     \n",
       "           ⎥                                            ⎢                     \n",
       "       0  0⎥                                            ⎢0              0     \n",
       "           ⎥                                            ⎢                     \n",
       " 2         ⎥                                            ⎢0              0     \n",
       "h (χ)  0  0⎥                                            ⎢                     \n",
       "           ⎥                                            ⎢       2       4     \n",
       "       0  0⎦                                            ⎣0  -sin (θ)⋅cos (t)⋅s\n",
       "                                                                              \n",
       "                                                                              \n",
       "                              ⎤                                               \n",
       "   0             0            ⎥                         ⎡0  0              0  \n",
       "                              ⎥                         ⎢                     \n",
       "                              ⎥                         ⎢0  0              0  \n",
       ")  0             0            ⎥                         ⎢                     \n",
       "                              ⎥                         ⎢0  0              0  \n",
       "   0             0            ⎥                         ⎢                     \n",
       "                              ⎥                         ⎢          2       4  \n",
       "         2       4        4   ⎥                         ⎣0  0  -sin (θ)⋅cos (t\n",
       "   0  sin (θ)⋅cos (t)⋅sinh (χ)⎦                                               \n",
       "                                                                              \n",
       "                                 ⎡    2       2        2                      \n",
       "  0            ⎤                 ⎢-sin (θ)⋅cos (t)⋅sinh (χ)             0     \n",
       "               ⎥                 ⎢                                            \n",
       "  0            ⎥                 ⎢                              2       4     \n",
       "               ⎥                 ⎢            0              sin (θ)⋅cos (t)⋅s\n",
       "  4        4   ⎥                 ⎢                                            \n",
       "os (t)⋅sinh (χ)⎥                 ⎢                                            \n",
       "               ⎥                 ⎢            0                         0     \n",
       "  0            ⎦                 ⎢                                            \n",
       "                                 ⎣            0                         0     \n",
       "\n",
       "                                     ⎤\n",
       "     0  0  0⎤                        ⎥\n",
       "            ⎥                        ⎥\n",
       "     0  0  0⎥                        ⎥\n",
       "            ⎥                        ⎥\n",
       "     0  0  0⎥                        ⎥\n",
       "            ⎥                        ⎥\n",
       "            ⎥                        ⎥\n",
       "(χ)  0  0  0⎦                        ⎥\n",
       "                                     ⎥\n",
       "                                     ⎥\n",
       "                                     ⎥\n",
       "         0  0⎤                       ⎥\n",
       "             ⎥                       ⎥\n",
       "         0  0⎥                       ⎥\n",
       "             ⎥                       ⎥\n",
       "         0  0⎥                       ⎥\n",
       "             ⎥                       ⎥\n",
       "   2         ⎥                       ⎥\n",
       "inh (χ)  0  0⎦                       ⎥\n",
       "                                     ⎥\n",
       "                                     ⎥\n",
       "                                     ⎥\n",
       "            0⎤                       ⎥\n",
       "             ⎥                       ⎥\n",
       "            0⎥                       ⎥\n",
       "             ⎥                       ⎥\n",
       "            0⎥                       ⎥\n",
       "             ⎥                       ⎥\n",
       "      4      ⎥                       ⎥\n",
       ")⋅sinh (χ)  0⎦                       ⎥\n",
       "                                     ⎥\n",
       "                                     ⎥\n",
       "                                    ⎤⎥\n",
       "                    0              0⎥⎥\n",
       "                                    ⎥⎥\n",
       "   2                                ⎥⎥\n",
       "inh (χ)             0              0⎥⎥\n",
       "                                    ⎥⎥\n",
       "            2       4        4      ⎥⎥\n",
       "         sin (θ)⋅cos (t)⋅sinh (χ)  0⎥⎥\n",
       "                                    ⎥⎥\n",
       "                    0              0⎦⎦"
      ]
     },
     "execution_count": 20,
     "metadata": {},
     "output_type": "execute_result"
    }
   ],
   "source": [
    "wt = WeylTensor.from_metric(metric)\n",
    "wt.tensor()"
   ]
  },
  {
   "cell_type": "code",
   "execution_count": null,
   "metadata": {
    "collapsed": true
   },
   "outputs": [],
   "source": []
  }
 ],
 "metadata": {
  "kernelspec": {
   "display_name": "Python 3",
   "language": "python",
   "name": "python3"
  },
  "language_info": {
   "codemirror_mode": {
    "name": "ipython",
    "version": 3
   },
   "file_extension": ".py",
   "mimetype": "text/x-python",
   "name": "python",
   "nbconvert_exporter": "python",
   "pygments_lexer": "ipython3",
   "version": "3.6.1"
  }
 },
 "nbformat": 4,
 "nbformat_minor": 2
}
