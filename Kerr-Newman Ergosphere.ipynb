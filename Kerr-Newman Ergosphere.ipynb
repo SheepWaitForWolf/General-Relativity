{
 "cells": [
  {
   "cell_type": "code",
   "execution_count": 25,
   "metadata": {},
   "outputs": [],
   "source": [
    "import astropy.units as u\n",
    "import numpy as np\n",
    "import astropy.units as u\n",
    "import matplotlib.pyplot as plt\n",
    "\n",
    "from einsteinpy.coordinates import BoyerLindquistDifferential\n",
    "from einsteinpy.metric import Kerr"
   ]
  },
  {
   "cell_type": "code",
   "execution_count": 26,
   "metadata": {},
   "outputs": [
    {
     "ename": "TypeError",
     "evalue": "missing a required argument: 'a'",
     "output_type": "error",
     "traceback": [
      "\u001b[1;31m---------------------------------------------------------------------------\u001b[0m",
      "\u001b[1;31mTypeError\u001b[0m                                 Traceback (most recent call last)",
      "\u001b[1;32m<ipython-input-26-4cc1fb2249a6>\u001b[0m in \u001b[0;36m<module>\u001b[1;34m\u001b[0m\n\u001b[0;32m      7\u001b[0m \u001b[1;31m# Note that, for this example\u001b[0m\u001b[1;33m\u001b[0m\u001b[1;33m\u001b[0m\u001b[1;33m\u001b[0m\u001b[0m\n\u001b[0;32m      8\u001b[0m \u001b[1;31m# the coordinate values below are irrelevant\u001b[0m\u001b[1;33m\u001b[0m\u001b[1;33m\u001b[0m\u001b[1;33m\u001b[0m\u001b[0m\n\u001b[1;32m----> 9\u001b[1;33m bl = BoyerLindquistDifferential(\n\u001b[0m\u001b[0;32m     10\u001b[0m     \u001b[0mt\u001b[0m\u001b[1;33m=\u001b[0m\u001b[1;36m0.\u001b[0m \u001b[1;33m*\u001b[0m \u001b[0mu\u001b[0m\u001b[1;33m.\u001b[0m\u001b[0ms\u001b[0m\u001b[1;33m,\u001b[0m\u001b[1;33m\u001b[0m\u001b[1;33m\u001b[0m\u001b[0m\n\u001b[0;32m     11\u001b[0m     \u001b[0mr\u001b[0m\u001b[1;33m=\u001b[0m\u001b[1;36m1e3\u001b[0m \u001b[1;33m*\u001b[0m \u001b[0mu\u001b[0m\u001b[1;33m.\u001b[0m\u001b[0mm\u001b[0m\u001b[1;33m,\u001b[0m\u001b[1;33m\u001b[0m\u001b[1;33m\u001b[0m\u001b[0m\n",
      "\u001b[1;32mC:\\anaconda3\\lib\\site-packages\\astropy\\units\\decorators.py\u001b[0m in \u001b[0;36mwrapper\u001b[1;34m(*func_args, **func_kwargs)\u001b[0m\n\u001b[0;32m    166\u001b[0m         \u001b[1;32mdef\u001b[0m \u001b[0mwrapper\u001b[0m\u001b[1;33m(\u001b[0m\u001b[1;33m*\u001b[0m\u001b[0mfunc_args\u001b[0m\u001b[1;33m,\u001b[0m \u001b[1;33m**\u001b[0m\u001b[0mfunc_kwargs\u001b[0m\u001b[1;33m)\u001b[0m\u001b[1;33m:\u001b[0m\u001b[1;33m\u001b[0m\u001b[1;33m\u001b[0m\u001b[0m\n\u001b[0;32m    167\u001b[0m             \u001b[1;31m# Bind the arguments to our new function to the signature of the original.\u001b[0m\u001b[1;33m\u001b[0m\u001b[1;33m\u001b[0m\u001b[1;33m\u001b[0m\u001b[0m\n\u001b[1;32m--> 168\u001b[1;33m             \u001b[0mbound_args\u001b[0m \u001b[1;33m=\u001b[0m \u001b[0mwrapped_signature\u001b[0m\u001b[1;33m.\u001b[0m\u001b[0mbind\u001b[0m\u001b[1;33m(\u001b[0m\u001b[1;33m*\u001b[0m\u001b[0mfunc_args\u001b[0m\u001b[1;33m,\u001b[0m \u001b[1;33m**\u001b[0m\u001b[0mfunc_kwargs\u001b[0m\u001b[1;33m)\u001b[0m\u001b[1;33m\u001b[0m\u001b[1;33m\u001b[0m\u001b[0m\n\u001b[0m\u001b[0;32m    169\u001b[0m \u001b[1;33m\u001b[0m\u001b[0m\n\u001b[0;32m    170\u001b[0m             \u001b[1;31m# Iterate through the parameters of the original signature\u001b[0m\u001b[1;33m\u001b[0m\u001b[1;33m\u001b[0m\u001b[1;33m\u001b[0m\u001b[0m\n",
      "\u001b[1;32mC:\\anaconda3\\lib\\inspect.py\u001b[0m in \u001b[0;36mbind\u001b[1;34m(self, *args, **kwargs)\u001b[0m\n\u001b[0;32m   3023\u001b[0m         \u001b[1;32mif\u001b[0m \u001b[0mthe\u001b[0m \u001b[0mpassed\u001b[0m \u001b[0marguments\u001b[0m \u001b[0mcan\u001b[0m \u001b[1;32mnot\u001b[0m \u001b[0mbe\u001b[0m \u001b[0mbound\u001b[0m\u001b[1;33m.\u001b[0m\u001b[1;33m\u001b[0m\u001b[1;33m\u001b[0m\u001b[0m\n\u001b[0;32m   3024\u001b[0m         \"\"\"\n\u001b[1;32m-> 3025\u001b[1;33m         \u001b[1;32mreturn\u001b[0m \u001b[0mself\u001b[0m\u001b[1;33m.\u001b[0m\u001b[0m_bind\u001b[0m\u001b[1;33m(\u001b[0m\u001b[0margs\u001b[0m\u001b[1;33m,\u001b[0m \u001b[0mkwargs\u001b[0m\u001b[1;33m)\u001b[0m\u001b[1;33m\u001b[0m\u001b[1;33m\u001b[0m\u001b[0m\n\u001b[0m\u001b[0;32m   3026\u001b[0m \u001b[1;33m\u001b[0m\u001b[0m\n\u001b[0;32m   3027\u001b[0m     \u001b[1;32mdef\u001b[0m \u001b[0mbind_partial\u001b[0m\u001b[1;33m(\u001b[0m\u001b[0mself\u001b[0m\u001b[1;33m,\u001b[0m \u001b[1;33m/\u001b[0m\u001b[1;33m,\u001b[0m \u001b[1;33m*\u001b[0m\u001b[0margs\u001b[0m\u001b[1;33m,\u001b[0m \u001b[1;33m**\u001b[0m\u001b[0mkwargs\u001b[0m\u001b[1;33m)\u001b[0m\u001b[1;33m:\u001b[0m\u001b[1;33m\u001b[0m\u001b[1;33m\u001b[0m\u001b[0m\n",
      "\u001b[1;32mC:\\anaconda3\\lib\\inspect.py\u001b[0m in \u001b[0;36m_bind\u001b[1;34m(self, args, kwargs, partial)\u001b[0m\n\u001b[0;32m   2993\u001b[0m                 if (not partial and param.kind != _VAR_POSITIONAL and\n\u001b[0;32m   2994\u001b[0m                                                     param.default is _empty):\n\u001b[1;32m-> 2995\u001b[1;33m                     raise TypeError('missing a required argument: {arg!r}'. \\\n\u001b[0m\u001b[0;32m   2996\u001b[0m                                     format(arg=param_name)) from None\n\u001b[0;32m   2997\u001b[0m \u001b[1;33m\u001b[0m\u001b[0m\n",
      "\u001b[1;31mTypeError\u001b[0m: missing a required argument: 'a'"
     ]
    }
   ],
   "source": [
    "# Metric or Black Hole parameters - Mass, M and Spin Parameter, a\n",
    "M = 4e30 * u.kg\n",
    "a1 = 0.4 * u.one\n",
    "a2 = 0.9 * u.one # Extremal Kerr Black Hole\n",
    "\n",
    "# Coordinate object to initialize metric\n",
    "# Note that, for this example\n",
    "# the coordinate values below are irrelevant\n",
    "bl = BoyerLindquistDifferential(\n",
    "    t=0. * u.s,\n",
    "    r=1e3 * u.m,\n",
    "    theta=np.pi / 2 * u.rad,\n",
    "    phi=np.pi * u.rad,\n",
    "    v_r=0. * u.m / u.s,\n",
    "    v_th=0. * u.rad / u.s,\n",
    "    v_p=0. * u.rad / u.s,\n",
    ")\n",
    "\n",
    "# Defining two Kerr Black Holes, one with a higher spin parameter\n",
    "kerr1 = Kerr(coords=bl, M=M, a=a1)\n",
    "kerr2 = Kerr(coords=bl, M=M, a=a2)\n",
    "\n",
    "# Getting the list of singularities\n",
    "sing_dict1 = kerr1.singularities()\n",
    "sing_dict2 = kerr2.singularities()\n",
    "\n",
    "# Let's check the contents of the dicts\n",
    "# 'ergosphere' entries should be functions\n",
    "print(sing_dict1, sing_dict2, sep=\"\\n\\n\")"
   ]
  },
  {
   "cell_type": "code",
   "execution_count": 19,
   "metadata": {},
   "outputs": [
    {
     "ename": "NameError",
     "evalue": "name 'sing_dict1' is not defined",
     "output_type": "error",
     "traceback": [
      "\u001b[1;31m---------------------------------------------------------------------------\u001b[0m",
      "\u001b[1;31mNameError\u001b[0m                                 Traceback (most recent call last)",
      "\u001b[1;32m<ipython-input-19-2d8bd1131520>\u001b[0m in \u001b[0;36m<module>\u001b[1;34m\u001b[0m\n\u001b[0;32m      4\u001b[0m \u001b[1;31m# Ergospheres\u001b[0m\u001b[1;33m\u001b[0m\u001b[1;33m\u001b[0m\u001b[1;33m\u001b[0m\u001b[0m\n\u001b[0;32m      5\u001b[0m \u001b[1;31m# These are functions\u001b[0m\u001b[1;33m\u001b[0m\u001b[1;33m\u001b[0m\u001b[1;33m\u001b[0m\u001b[0m\n\u001b[1;32m----> 6\u001b[1;33m \u001b[0mEi1\u001b[0m\u001b[1;33m,\u001b[0m \u001b[0mEo1\u001b[0m \u001b[1;33m=\u001b[0m \u001b[0msing_dict1\u001b[0m\u001b[1;33m[\u001b[0m\u001b[1;34m\"inner_ergosphere\"\u001b[0m\u001b[1;33m]\u001b[0m\u001b[1;33m,\u001b[0m \u001b[0msing_dict1\u001b[0m\u001b[1;33m[\u001b[0m\u001b[1;34m\"outer_ergosphere\"\u001b[0m\u001b[1;33m]\u001b[0m\u001b[1;33m\u001b[0m\u001b[1;33m\u001b[0m\u001b[0m\n\u001b[0m\u001b[0;32m      7\u001b[0m \u001b[0mEi2\u001b[0m\u001b[1;33m,\u001b[0m \u001b[0mEo2\u001b[0m \u001b[1;33m=\u001b[0m \u001b[0msing_dict2\u001b[0m\u001b[1;33m[\u001b[0m\u001b[1;34m\"inner_ergosphere\"\u001b[0m\u001b[1;33m]\u001b[0m\u001b[1;33m,\u001b[0m \u001b[0msing_dict2\u001b[0m\u001b[1;33m[\u001b[0m\u001b[1;34m\"outer_ergosphere\"\u001b[0m\u001b[1;33m]\u001b[0m\u001b[1;33m\u001b[0m\u001b[1;33m\u001b[0m\u001b[0m\n\u001b[0;32m      8\u001b[0m \u001b[1;33m\u001b[0m\u001b[0m\n",
      "\u001b[1;31mNameError\u001b[0m: name 'sing_dict1' is not defined"
     ]
    }
   ],
   "source": [
    "# Sampling Polar Angle for plotting in Polar Coordinates\n",
    "theta = np.linspace(0, 2 * np.pi, 100)\n",
    "\n",
    "# Ergospheres\n",
    "# These are functions\n",
    "Ei1, Eo1 = sing_dict1[\"inner_ergosphere\"], sing_dict1[\"outer_ergosphere\"]\n",
    "Ei2, Eo2 = sing_dict2[\"inner_ergosphere\"], sing_dict2[\"outer_ergosphere\"]\n",
    "\n",
    "# Creating lists of points on Ergospheres for different polar angles, for both black holes\n",
    "Ei1_list, Eo1_list = Ei1(theta), Eo1(theta)\n",
    "Ei2_list, Eo2_list = Ei2(theta), Eo2(theta)\n",
    "\n",
    "# For Black Hole 1 (a = 0.4)\n",
    "Xei1 = Ei1_list * np.sin(theta)\n",
    "Yei1 = Ei1_list * np.cos(theta)\n",
    "\n",
    "Xeo1 = Eo1_list * np.sin(theta)\n",
    "Yeo1 = Eo1_list * np.cos(theta)\n",
    "\n",
    "# For Black Hole 2 (a = 0.9)\n",
    "Xei2 = Ei2_list * np.sin(theta)\n",
    "Yei2 = Ei2_list * np.cos(theta)\n",
    "\n",
    "Xeo2 = Eo2_list * np.sin(theta)\n",
    "Yeo2 = Eo2_list * np.cos(theta)\n",
    "\n",
    "# Event Horizons\n",
    "Hi1, Ho1 = sing_dict1[\"inner_horizon\"], sing_dict1[\"outer_horizon\"]\n",
    "Hi2, Ho2 = sing_dict2[\"inner_horizon\"], sing_dict2[\"outer_horizon\"]\n",
    "\n",
    "# For Black Hole 1 (a = 0.4)\n",
    "Xhi1 = Hi1 * np.sin(theta)\n",
    "Yhi1 = Hi1 * np.cos(theta)\n",
    "\n",
    "Xho1 = Ho1 * np.sin(theta)\n",
    "Yho1 = Ho1 * np.cos(theta)\n",
    "\n",
    "# For Black Hole 2 (a = 0.9)\n",
    "Xhi2 = Hi2 * np.sin(theta)\n",
    "Yhi2 = Hi2 * np.cos(theta)\n",
    "\n",
    "Xho2 = Ho2 * np.sin(theta)\n",
    "Yho2 = Ho2 * np.cos(theta)"
   ]
  },
  {
   "cell_type": "code",
   "execution_count": null,
   "metadata": {},
   "outputs": [],
   "source": [
    "fig, (ax1, ax2) = plt.subplots(1, 2, figsize=(15,7.5))\n",
    "\n",
    "ax1.fill(Xei1, Yei1, 'b', Xeo1, Yeo1, 'r', Xhi1, Yhi1, 'b', Xho1, Yho1, 'r', alpha=0.3)\n",
    "ax1.set_title(f\"$M = {M}, a = {a1}$\", fontsize=18)\n",
    "ax1.set_xlabel(\"X\", fontsize=18)\n",
    "ax1.set_ylabel(\"Y\", fontsize=18)\n",
    "ax1.set_xlim([-6100, 6100])\n",
    "ax1.set_ylim([-6100, 6100])\n",
    "\n",
    "ax2.fill(Xei2, Yei2, 'b', Xeo2, Yeo2, 'r', Xhi2, Yhi2, 'b', Xho2, Yho2, 'r', alpha=0.3)\n",
    "ax2.set_title(f\"$M = {M}, a = {a2}$\", fontsize=18)\n",
    "ax2.set_xlabel(\"X\", fontsize=18)\n",
    "ax2.set_ylabel(\"Y\", fontsize=18)\n",
    "ax2.set_xlim([-6100, 6100])\n",
    "ax2.set_ylim([-6100, 6100])"
   ]
  }
 ],
 "metadata": {
  "kernelspec": {
   "display_name": "Python 3",
   "language": "python",
   "name": "python3"
  },
  "language_info": {
   "codemirror_mode": {
    "name": "ipython",
    "version": 3
   },
   "file_extension": ".py",
   "mimetype": "text/x-python",
   "name": "python",
   "nbconvert_exporter": "python",
   "pygments_lexer": "ipython3",
   "version": "3.8.5"
  }
 },
 "nbformat": 4,
 "nbformat_minor": 2
}
