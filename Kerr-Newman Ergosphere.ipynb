{
 "cells": [
  {
   "cell_type": "code",
   "execution_count": 15,
   "metadata": {},
   "outputs": [],
   "source": [
    "import astropy.units as u\n",
    "import numpy as np\n",
    "import astropy.units as u\n",
    "import matplotlib.pyplot as plt\n",
    "\n",
    "from einsteinpy.coordinates import BoyerLindquistDifferential\n",
    "from einsteinpy.metric import Kerr"
   ]
  },
  {
   "cell_type": "code",
   "execution_count": 28,
   "metadata": {},
   "outputs": [
    {
     "ename": "UnitsError",
     "evalue": "Argument 'a' to function '__init__' must be in units convertible to 'km'.",
     "output_type": "error",
     "traceback": [
      "\u001b[1;31m---------------------------------------------------------------------------\u001b[0m",
      "\u001b[1;31mUnitsError\u001b[0m                                Traceback (most recent call last)",
      "\u001b[1;32m<ipython-input-28-634cfe28f9af>\u001b[0m in \u001b[0;36m<module>\u001b[1;34m()\u001b[0m\n\u001b[0;32m     14\u001b[0m     \u001b[0mv_r\u001b[0m\u001b[1;33m=\u001b[0m\u001b[1;36m0.\u001b[0m \u001b[1;33m*\u001b[0m \u001b[0mu\u001b[0m\u001b[1;33m.\u001b[0m\u001b[0mm\u001b[0m \u001b[1;33m/\u001b[0m \u001b[0mu\u001b[0m\u001b[1;33m.\u001b[0m\u001b[0ms\u001b[0m\u001b[1;33m,\u001b[0m\u001b[1;33m\u001b[0m\u001b[0m\n\u001b[0;32m     15\u001b[0m     \u001b[0mv_t\u001b[0m\u001b[1;33m=\u001b[0m\u001b[1;36m0.\u001b[0m \u001b[1;33m*\u001b[0m \u001b[0mu\u001b[0m\u001b[1;33m.\u001b[0m\u001b[0mrad\u001b[0m \u001b[1;33m/\u001b[0m \u001b[0mu\u001b[0m\u001b[1;33m.\u001b[0m\u001b[0ms\u001b[0m\u001b[1;33m,\u001b[0m\u001b[1;33m\u001b[0m\u001b[0m\n\u001b[1;32m---> 16\u001b[1;33m     \u001b[0mv_p\u001b[0m\u001b[1;33m=\u001b[0m\u001b[1;36m0.\u001b[0m \u001b[1;33m*\u001b[0m \u001b[0mu\u001b[0m\u001b[1;33m.\u001b[0m\u001b[0mrad\u001b[0m \u001b[1;33m/\u001b[0m \u001b[0mu\u001b[0m\u001b[1;33m.\u001b[0m\u001b[0ms\u001b[0m\u001b[1;33m\u001b[0m\u001b[0m\n\u001b[0m\u001b[0;32m     17\u001b[0m )\n\u001b[0;32m     18\u001b[0m \u001b[1;33m\u001b[0m\u001b[0m\n",
      "\u001b[1;32mC:\\Program Files\\Anaconda3\\lib\\site-packages\\astropy\\utils\\decorators.py\u001b[0m in \u001b[0;36m__init__\u001b[1;34m(self, r, theta, phi, v_r, v_t, v_p, a)\u001b[0m\n\u001b[0;32m    872\u001b[0m             \u001b[0mname\u001b[0m \u001b[1;33m=\u001b[0m \u001b[0mfunc\u001b[0m\u001b[1;33m.\u001b[0m\u001b[0m__name__\u001b[0m\u001b[1;33m\u001b[0m\u001b[0m\n\u001b[0;32m    873\u001b[0m \u001b[1;33m\u001b[0m\u001b[0m\n\u001b[1;32m--> 874\u001b[1;33m         \u001b[0mfunc\u001b[0m \u001b[1;33m=\u001b[0m \u001b[0mmake_function_with_signature\u001b[0m\u001b[1;33m(\u001b[0m\u001b[0mfunc\u001b[0m\u001b[1;33m,\u001b[0m \u001b[0mname\u001b[0m\u001b[1;33m=\u001b[0m\u001b[0mname\u001b[0m\u001b[1;33m,\u001b[0m \u001b[1;33m**\u001b[0m\u001b[0mwrapped_args\u001b[0m\u001b[1;33m)\u001b[0m\u001b[1;33m\u001b[0m\u001b[0m\n\u001b[0m\u001b[0;32m    875\u001b[0m         func = functools.update_wrapper(func, wrapped, assigned=assigned,\n\u001b[0;32m    876\u001b[0m                                         updated=updated)\n",
      "\u001b[1;32mC:\\Program Files\\Anaconda3\\lib\\site-packages\\astropy\\units\\decorators.py\u001b[0m in \u001b[0;36mwrapper\u001b[1;34m(*func_args, **func_kwargs)\u001b[0m\n\u001b[0;32m    114\u001b[0m                                              \" '{2}'.\".format(param.name,\n\u001b[0;32m    115\u001b[0m                                                      \u001b[0mwrapped_function\u001b[0m\u001b[1;33m.\u001b[0m\u001b[0m__name__\u001b[0m\u001b[1;33m,\u001b[0m\u001b[1;33m\u001b[0m\u001b[0m\n\u001b[1;32m--> 116\u001b[1;33m                                                      target_unit.to_string()))\n\u001b[0m\u001b[0;32m    117\u001b[0m \u001b[1;33m\u001b[0m\u001b[0m\n\u001b[0;32m    118\u001b[0m                     \u001b[1;31m# Either there is no .unit or no .is_equivalent\u001b[0m\u001b[1;33m\u001b[0m\u001b[1;33m\u001b[0m\u001b[0m\n",
      "\u001b[1;31mUnitsError\u001b[0m: Argument 'a' to function '__init__' must be in units convertible to 'km'."
     ]
    }
   ],
   "source": [
    "#  Metric or Black Hole parameters - Mass, M and Spin Parameter, a\n",
    "M = 4e30 * u.kg\n",
    "a1 = 0.4 * u.one\n",
    "a2 = 0.9 * u.one # Extremal Kerr Black Hole\n",
    "\n",
    "# Coordinate object to initialize metric with\n",
    "# Note that, for this example\n",
    "# the coordinate values below are irrelevant\n",
    "bl = BoyerLindquistDifferential(\n",
    "    a=a1,\n",
    "    r=1e3 * u.m,\n",
    "    theta=np.pi / 2 * u.rad,\n",
    "    phi=np.pi * u.rad,\n",
    "    v_r=0. * u.m / u.s,\n",
    "    v_t=0. * u.rad / u.s,\n",
    "    v_p=0. * u.rad / u.s\n",
    ")\n",
    "\n",
    "# Defining two Kerr Black Holes, one with a higher spin parameter\n",
    "kerr1 = Kerr(bl, M=M, a=a1)\n",
    "kerr2 = Kerr(coords=bl, M=M, a=a2)\n",
    "\n",
    "# Getting the list of singularities\n",
    "sing_dict1 = kerr1.singularities()\n",
    "sing_dict2 = kerr2.singularities()\n",
    "\n",
    "# Let's check the contents of the dicts\n",
    "# 'ergosphere' entries should be functions\n",
    "print(sing_dict1, sing_dict2, sep=\"\\n\\n\")"
   ]
  },
  {
   "cell_type": "code",
   "execution_count": 3,
   "metadata": {},
   "outputs": [
    {
     "ename": "NameError",
     "evalue": "name 'sing_dict1' is not defined",
     "output_type": "error",
     "traceback": [
      "\u001b[1;31m---------------------------------------------------------------------------\u001b[0m",
      "\u001b[1;31mNameError\u001b[0m                                 Traceback (most recent call last)",
      "\u001b[1;32m<ipython-input-3-bbb6b9eb2628>\u001b[0m in \u001b[0;36m<module>\u001b[1;34m()\u001b[0m\n\u001b[0;32m      4\u001b[0m \u001b[1;31m# Ergospheres\u001b[0m\u001b[1;33m\u001b[0m\u001b[1;33m\u001b[0m\u001b[0m\n\u001b[0;32m      5\u001b[0m \u001b[1;31m# These are functions\u001b[0m\u001b[1;33m\u001b[0m\u001b[1;33m\u001b[0m\u001b[0m\n\u001b[1;32m----> 6\u001b[1;33m \u001b[0mEi1\u001b[0m\u001b[1;33m,\u001b[0m \u001b[0mEo1\u001b[0m \u001b[1;33m=\u001b[0m \u001b[0msing_dict1\u001b[0m\u001b[1;33m[\u001b[0m\u001b[1;34m\"inner_ergosphere\"\u001b[0m\u001b[1;33m]\u001b[0m\u001b[1;33m,\u001b[0m \u001b[0msing_dict1\u001b[0m\u001b[1;33m[\u001b[0m\u001b[1;34m\"outer_ergosphere\"\u001b[0m\u001b[1;33m]\u001b[0m\u001b[1;33m\u001b[0m\u001b[0m\n\u001b[0m\u001b[0;32m      7\u001b[0m \u001b[0mEi2\u001b[0m\u001b[1;33m,\u001b[0m \u001b[0mEo2\u001b[0m \u001b[1;33m=\u001b[0m \u001b[0msing_dict2\u001b[0m\u001b[1;33m[\u001b[0m\u001b[1;34m\"inner_ergosphere\"\u001b[0m\u001b[1;33m]\u001b[0m\u001b[1;33m,\u001b[0m \u001b[0msing_dict2\u001b[0m\u001b[1;33m[\u001b[0m\u001b[1;34m\"outer_ergosphere\"\u001b[0m\u001b[1;33m]\u001b[0m\u001b[1;33m\u001b[0m\u001b[0m\n\u001b[0;32m      8\u001b[0m \u001b[1;33m\u001b[0m\u001b[0m\n",
      "\u001b[1;31mNameError\u001b[0m: name 'sing_dict1' is not defined"
     ]
    }
   ],
   "source": [
    "# Sampling Polar Angle for plotting in Polar Coordinates\n",
    "theta = np.linspace(0, 2 * np.pi, 100)\n",
    "\n",
    "# Ergospheres\n",
    "# These are functions\n",
    "Ei1, Eo1 = sing_dict1[\"inner_ergosphere\"], sing_dict1[\"outer_ergosphere\"]\n",
    "Ei2, Eo2 = sing_dict2[\"inner_ergosphere\"], sing_dict2[\"outer_ergosphere\"]\n",
    "\n",
    "# Creating lists of points on Ergospheres for different polar angles, for both black holes\n",
    "Ei1_list, Eo1_list = Ei1(theta), Eo1(theta)\n",
    "Ei2_list, Eo2_list = Ei2(theta), Eo2(theta)\n",
    "\n",
    "# For Black Hole 1 (a = 0.4)\n",
    "Xei1 = Ei1_list * np.sin(theta)\n",
    "Yei1 = Ei1_list * np.cos(theta)\n",
    "\n",
    "Xeo1 = Eo1_list * np.sin(theta)\n",
    "Yeo1 = Eo1_list * np.cos(theta)\n",
    "\n",
    "# For Black Hole 2 (a = 0.9)\n",
    "Xei2 = Ei2_list * np.sin(theta)\n",
    "Yei2 = Ei2_list * np.cos(theta)\n",
    "\n",
    "Xeo2 = Eo2_list * np.sin(theta)\n",
    "Yeo2 = Eo2_list * np.cos(theta)\n",
    "\n",
    "# Event Horizons\n",
    "Hi1, Ho1 = sing_dict1[\"inner_horizon\"], sing_dict1[\"outer_horizon\"]\n",
    "Hi2, Ho2 = sing_dict2[\"inner_horizon\"], sing_dict2[\"outer_horizon\"]\n",
    "\n",
    "# For Black Hole 1 (a = 0.4)\n",
    "Xhi1 = Hi1 * np.sin(theta)\n",
    "Yhi1 = Hi1 * np.cos(theta)\n",
    "\n",
    "Xho1 = Ho1 * np.sin(theta)\n",
    "Yho1 = Ho1 * np.cos(theta)\n",
    "\n",
    "# For Black Hole 2 (a = 0.9)\n",
    "Xhi2 = Hi2 * np.sin(theta)\n",
    "Yhi2 = Hi2 * np.cos(theta)\n",
    "\n",
    "Xho2 = Ho2 * np.sin(theta)\n",
    "Yho2 = Ho2 * np.cos(theta)"
   ]
  },
  {
   "cell_type": "code",
   "execution_count": null,
   "metadata": {
    "collapsed": true
   },
   "outputs": [],
   "source": [
    "fig, (ax1, ax2) = plt.subplots(1, 2, figsize=(15,7.5))\n",
    "\n",
    "ax1.fill(Xei1, Yei1, 'b', Xeo1, Yeo1, 'r', Xhi1, Yhi1, 'b', Xho1, Yho1, 'r', alpha=0.3)\n",
    "ax1.set_title(f\"$M = {M}, a = {a1}$\", fontsize=18)\n",
    "ax1.set_xlabel(\"X\", fontsize=18)\n",
    "ax1.set_ylabel(\"Y\", fontsize=18)\n",
    "ax1.set_xlim([-6100, 6100])\n",
    "ax1.set_ylim([-6100, 6100])\n",
    "\n",
    "ax2.fill(Xei2, Yei2, 'b', Xeo2, Yeo2, 'r', Xhi2, Yhi2, 'b', Xho2, Yho2, 'r', alpha=0.3)\n",
    "ax2.set_title(f\"$M = {M}, a = {a2}$\", fontsize=18)\n",
    "ax2.set_xlabel(\"X\", fontsize=18)\n",
    "ax2.set_ylabel(\"Y\", fontsize=18)\n",
    "ax2.set_xlim([-6100, 6100])\n",
    "ax2.set_ylim([-6100, 6100])"
   ]
  }
 ],
 "metadata": {
  "kernelspec": {
   "display_name": "Python 3",
   "language": "python",
   "name": "python3"
  },
  "language_info": {
   "codemirror_mode": {
    "name": "ipython",
    "version": 3
   },
   "file_extension": ".py",
   "mimetype": "text/x-python",
   "name": "python",
   "nbconvert_exporter": "python",
   "pygments_lexer": "ipython3",
   "version": "3.6.1"
  }
 },
 "nbformat": 4,
 "nbformat_minor": 2
}
